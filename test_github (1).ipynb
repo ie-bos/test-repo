{
 "cells": [
  {
   "cell_type": "code",
   "execution_count": null,
   "id": "d2298994-a8f4-483d-99a2-da4e52ec5bfb",
   "metadata": {},
   "outputs": [],
   "source": [
    "import pandas as pd"
   ]
  },
  {
   "cell_type": "code",
   "execution_count": null,
   "id": "931b53b3-9d98-4360-9421-68cd6556c859",
   "metadata": {},
   "outputs": [],
   "source": [
    "x = 1*5\n",
    "print(x)"
   ]
  }
 ],
 "metadata": {
  "kernelspec": {
   "display_name": "Python [conda env:ml]",
   "language": "python",
   "name": "conda-env-ml-py"
  },
  "language_info": {
   "codemirror_mode": {
    "name": "ipython",
    "version": 3
   },
   "file_extension": ".py",
   "mimetype": "text/x-python",
   "name": "python",
   "nbconvert_exporter": "python",
   "pygments_lexer": "ipython3",
   "version": "3.8.5"
  }
 },
 "nbformat": 4,
 "nbformat_minor": 5
}
